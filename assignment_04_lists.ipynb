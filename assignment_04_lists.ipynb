{
 "cells": [
  {
   "cell_type": "markdown",
   "id": "906d96f2-31a8-4997-b6f9-828e2671cb55",
   "metadata": {},
   "source": [
    "# 1. Program to print alternate elements of a list"
   ]
  },
  {
   "cell_type": "code",
   "execution_count": null,
   "id": "566b597b",
   "metadata": {},
   "outputs": [],
   "source": [
    "lst = list(map(int, input(\"Enter a list of numbers: \").split()))\n",
    "print(\"Alternate elements:\", lst[::2])\n"
   ]
  },
  {
   "cell_type": "markdown",
   "id": "e58c0711-3b98-4f9b-9518-ac98ba2be3f3",
   "metadata": {},
   "source": [
    "# 2. Reverse a list without using reverse()"
   ]
  },
  {
   "cell_type": "code",
   "execution_count": null,
   "id": "7a25ee54-2657-4164-bace-b2e2fa51afa3",
   "metadata": {},
   "outputs": [],
   "source": [
    "lst = list(map(int, input(\"Enter a list of numbers: \").split()))\n",
    "reversed_lst = lst[::-1]\n",
    "print(\"Reversed List:\", reversed_lst)\n"
   ]
  },
  {
   "cell_type": "markdown",
   "id": "f1c1ad9d-22ca-43a8-8e89-2d74fe5f43a3",
   "metadata": {},
   "source": [
    "# 3. Find the largest number without using max()"
   ]
  },
  {
   "cell_type": "code",
   "execution_count": null,
   "id": "3985227b",
   "metadata": {},
   "outputs": [],
   "source": [
    "lst = list(map(int, input(\"Enter a list of numbers: \").split()))\n",
    "largest = lst[0]\n",
    "for num in lst:\n",
    "    if num > largest:\n",
    "        largest = num\n",
    "print(\"Largest number:\", largest)\n"
   ]
  },
  {
   "cell_type": "markdown",
   "id": "1e17f4bf-cce6-4c13-94c6-c7ca5b0e4b83",
   "metadata": {},
   "source": [
    "# 4. Rotate elements of a list"
   ]
  },
  {
   "cell_type": "code",
   "execution_count": null,
   "id": "0836d485",
   "metadata": {},
   "outputs": [],
   "source": [
    "lst = list(map(int, input(\"Enter a list of numbers: \").split()))\n",
    "rotated_lst = lst[1:] + lst[:1]\n",
    "print(\"Rotated List:\", rotated_lst)\n"
   ]
  },
  {
   "cell_type": "markdown",
   "id": "ca4c683e-31f8-4827-b137-b068df62825e",
   "metadata": {},
   "source": [
    "# 5. Delete a given word from a string"
   ]
  },
  {
   "cell_type": "code",
   "execution_count": null,
   "id": "3005b893",
   "metadata": {},
   "outputs": [],
   "source": [
    "string = input(\"Enter a string: \")\n",
    "word_to_remove = input(\"Enter word to delete: \")\n",
    "new_string = string.replace(word_to_remove, \"\").strip()\n",
    "print(\"Updated string:\", new_string)\n"
   ]
  },
  {
   "cell_type": "markdown",
   "id": "50ee2d5b-e069-418c-bb1e-2327b42d50f2",
   "metadata": {},
   "source": [
    "# 6. Format a date from mm/dd/yyyy to Month day, year"
   ]
  },
  {
   "cell_type": "code",
   "execution_count": null,
   "id": "07cccb5b",
   "metadata": {},
   "outputs": [],
   "source": [
    "date = input(\"Enter a date (mm/dd/yyyy): \")\n",
    "months = [\"January\", \"February\", \"March\", \"April\", \"May\", \"June\", \"July\", \"August\", \"September\", \"October\", \"November\", \"December\"]\n",
    "mm, dd, yyyy = map(int, date.split('/'))\n",
    "print(f\"{months[mm-1]} {dd}, {yyyy}\")\n"
   ]
  },
  {
   "cell_type": "markdown",
   "id": "58fd060d-ca8e-433b-8592-3aef70810b76",
   "metadata": {},
   "source": [
    "# 7. Convert each word's first letter to uppercase"
   ]
  },
  {
   "cell_type": "code",
   "execution_count": null,
   "id": "e8e625c3",
   "metadata": {},
   "outputs": [],
   "source": [
    "sentence = input(\"Enter a sentence: \")\n",
    "capitalized_sentence = ' '.join(word.capitalize() for word in sentence.split())\n",
    "print(\"Formatted sentence:\", capitalized_sentence)\n"
   ]
  },
  {
   "cell_type": "markdown",
   "id": "9a036626-3432-40e5-8f8b-c8036f4b5dd4",
   "metadata": {},
   "source": [
    "# 8. Sum of each row of a matrix"
   ]
  },
  {
   "cell_type": "code",
   "execution_count": null,
   "id": "40d4ebc7",
   "metadata": {},
   "outputs": [],
   "source": [
    "m, n = map(int, input(\"Enter rows and columns of matrix: \").split())\n",
    "matrix = [list(map(int, input().split())) for _ in range(m)]\n",
    "for i, row in enumerate(matrix):\n",
    "    print(f\"Sum of row {i+1} =\", sum(row))\n"
   ]
  },
  {
   "cell_type": "markdown",
   "id": "9a404efe-a93c-435d-98a9-67fc1f62a18b",
   "metadata": {},
   "source": [
    "# 9. Add two matrices"
   ]
  },
  {
   "cell_type": "code",
   "execution_count": null,
   "id": "5021f9fc",
   "metadata": {},
   "outputs": [],
   "source": [
    "m, n = map(int, input(\"Enter rows and columns of matrices: \").split())\n",
    "matrix1 = [list(map(int, input().split())) for _ in range(m)]\n",
    "matrix2 = [list(map(int, input().split())) for _ in range(m)]\n",
    "result = [[matrix1[i][j] + matrix2[i][j] for j in range(n)] for i in range(m)]\n",
    "print(\"Sum of Matrices:\")\n",
    "for row in result:\n",
    "    print(row)\n"
   ]
  },
  {
   "cell_type": "markdown",
   "id": "e44da9ee-6786-42db-8ced-4913fd595a0d",
   "metadata": {},
   "source": [
    "# 10. Multiply two matrices"
   ]
  },
  {
   "cell_type": "code",
   "execution_count": null,
   "id": "2bfa2b59",
   "metadata": {},
   "outputs": [],
   "source": [
    "m, n = map(int, input(\"Enter rows and columns of first matrix: \").split())\n",
    "p = int(input(\"Enter number of columns for second matrix: \"))\n",
    "\n",
    "print(\"Enter first matrix:\")\n",
    "matrix1 = [list(map(int, input().split())) for _ in range(m)]\n",
    "\n",
    "print(\"Enter second matrix:\")\n",
    "matrix2 = [list(map(int, input().split())) for _ in range(n)]\n",
    "\n",
    "result = [[0] * p for _ in range(m)]\n",
    "\n",
    "for i in range(m):\n",
    "    for j in range(p):\n",
    "        for k in range(n):\n",
    "            result[i][j] += matrix1[i][k] * matrix2[k][j]\n",
    "\n",
    "print(\"Product of Matrices:\")\n",
    "for row in result:\n",
    "    print(row)\n"
   ]
  }
 ],
 "metadata": {
  "kernelspec": {
   "display_name": "Python 3 (ipykernel)",
   "language": "python",
   "name": "python3"
  },
  "language_info": {
   "codemirror_mode": {
    "name": "ipython",
    "version": 3
   },
   "file_extension": ".py",
   "mimetype": "text/x-python",
   "name": "python",
   "nbconvert_exporter": "python",
   "pygments_lexer": "ipython3",
   "version": "3.12.7"
  }
 },
 "nbformat": 4,
 "nbformat_minor": 5
}
