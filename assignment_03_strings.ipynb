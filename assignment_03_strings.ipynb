{
 "cells": [
  {
   "cell_type": "markdown",
   "id": "71025fb5-5cb3-4b31-b6b9-00051f4ecded",
   "metadata": {},
   "source": [
    "### 1. Write a program that accepts a string from user. Your program should count and display number of vowels in that string."
   ]
  },
  {
   "cell_type": "code",
   "execution_count": 1,
   "id": "8e193056",
   "metadata": {},
   "outputs": [
    {
     "name": "stdin",
     "output_type": "stream",
     "text": [
      "Enter a string:  asjal\n"
     ]
    },
    {
     "name": "stdout",
     "output_type": "stream",
     "text": [
      "Number of vowels: 2\n"
     ]
    }
   ],
   "source": [
    "s = input(\"Enter a string: \")\n",
    "vowels = \"AEIOUaeiou\"\n",
    "count = sum(1 for char in s if char in vowels)\n",
    "print(\"Number of vowels:\", count)"
   ]
  },
  {
   "cell_type": "markdown",
   "id": "7130afd5",
   "metadata": {},
   "source": [
    "### 2. Write a program that reads a string from keyboard and display:\n",
    "* The number of uppercase letters in the string\n",
    "* The number of lowercase letters in the string\n",
    "* The number of digits in the string\n",
    "* The number of whitespace characters in the string"
   ]
  },
  {
   "cell_type": "code",
   "execution_count": 4,
   "id": "df26ae38",
   "metadata": {},
   "outputs": [
    {
     "name": "stdin",
     "output_type": "stream",
     "text": [
      "Enter a string:  Asjal Amir 2\n"
     ]
    },
    {
     "name": "stdout",
     "output_type": "stream",
     "text": [
      "Uppercase letters: 2\n",
      "Lowercase letters: 7\n",
      "Digits: 1\n",
      "Whitespace characters: 2\n"
     ]
    }
   ],
   "source": [
    "s = input(\"Enter a string: \")\n",
    "upper = sum(1 for char in s if char.isupper())\n",
    "lower = sum(1 for char in s if char.islower())\n",
    "digits = sum(1 for char in s if char.isdigit())\n",
    "spaces = sum(1 for char in s if char.isspace())\n",
    "print(\"Uppercase letters:\", upper)\n",
    "print(\"Lowercase letters:\", lower)\n",
    "print(\"Digits:\", digits)\n",
    "print(\"Whitespace characters:\", spaces)"
   ]
  },
  {
   "cell_type": "markdown",
   "id": "9fb610ec",
   "metadata": {},
   "source": [
    "### 3. Write a Python program that accepts a string from user. Your program should create and display a new string where the first and last characters have been exchanged."
   ]
  },
  {
   "cell_type": "code",
   "execution_count": 2,
   "id": "c9404569",
   "metadata": {},
   "outputs": [
    {
     "name": "stdin",
     "output_type": "stream",
     "text": [
      "Enter a string:  asjal\n"
     ]
    },
    {
     "name": "stdout",
     "output_type": "stream",
     "text": [
      "New string: lsjaa\n"
     ]
    }
   ],
   "source": [
    "s = input(\"Enter a string: \")\n",
    "if len(s) > 1:\n",
    "    new_s = s[-1] + s[1:-1] + s[0]\n",
    "else:\n",
    "    new_s = s\n",
    "print(\"New string:\", new_s)"
   ]
  },
  {
   "cell_type": "markdown",
   "id": "3512790e",
   "metadata": {},
   "source": [
    "### 4. Write a Python program that accepts a string from user. Your program should create a new string in reverse of first string and display it."
   ]
  },
  {
   "cell_type": "code",
   "execution_count": 8,
   "id": "400fd9ff",
   "metadata": {},
   "outputs": [
    {
     "name": "stdin",
     "output_type": "stream",
     "text": [
      "Enter a string:  asjal\n"
     ]
    },
    {
     "name": "stdout",
     "output_type": "stream",
     "text": [
      "Reversed string: lajsa\n"
     ]
    }
   ],
   "source": [
    "s = input(\"Enter a string: \")\n",
    "new_s = s[::-1]\n",
    "print(\"Reversed string:\", new_s)"
   ]
  },
  {
   "cell_type": "markdown",
   "id": "8140c63a",
   "metadata": {},
   "source": [
    "### 5. Write a Python program that accepts a string from user. Your program should create a new string by shifting one position to left."
   ]
  },
  {
   "cell_type": "code",
   "execution_count": 9,
   "id": "bbd0581c",
   "metadata": {},
   "outputs": [
    {
     "name": "stdin",
     "output_type": "stream",
     "text": [
      "Enter a string:  asjal\n"
     ]
    },
    {
     "name": "stdout",
     "output_type": "stream",
     "text": [
      "Shifted string: sjala\n"
     ]
    }
   ],
   "source": [
    "s = input(\"Enter a string: \")\n",
    "new_s = s[1:] + s[0] if len(s) > 1 else s\n",
    "print(\"Shifted string:\", new_s)"
   ]
  },
  {
   "cell_type": "markdown",
   "id": "0346f1fc",
   "metadata": {},
   "source": [
    "### 6. Write a program that asks the user to input his name and print its initials."
   ]
  },
  {
   "cell_type": "code",
   "execution_count": 17,
   "id": "7fb88fe8",
   "metadata": {},
   "outputs": [
    {
     "name": "stdin",
     "output_type": "stream",
     "text": [
      "Enter your full name:  Asjal Amir\n"
     ]
    },
    {
     "name": "stdout",
     "output_type": "stream",
     "text": [
      "Your initials are: AA"
     ]
    }
   ],
   "source": [
    "name = input(\"Enter your full name: \")\n",
    "\n",
    "words = name.split()\n",
    "\n",
    "\n",
    "print(\"Your initials are: \", end=\"\")  \n",
    "for word in words:\n",
    "    print(word[0], end=\"\")  "
   ]
  },
  {
   "cell_type": "markdown",
   "id": "24a181e9",
   "metadata": {},
   "source": [
    "### 7. Write a program that determines whether the string is a palindrome."
   ]
  },
  {
   "cell_type": "code",
   "execution_count": 19,
   "id": "553f3c26",
   "metadata": {},
   "outputs": [
    {
     "name": "stdin",
     "output_type": "stream",
     "text": [
      "Enter a string:  racecar\n"
     ]
    },
    {
     "name": "stdout",
     "output_type": "stream",
     "text": [
      "Palindrome: True\n"
     ]
    }
   ],
   "source": [
    "s = input(\"Enter a string: \")\n",
    "is_palindrome = s == s[::-1]\n",
    "print(\"Palindrome:\", is_palindrome)"
   ]
  },
  {
   "cell_type": "markdown",
   "id": "4100fb23",
   "metadata": {},
   "source": [
    "### 8. Write a program that displays the shifting pattern of 'SHIFT'."
   ]
  },
  {
   "cell_type": "code",
   "execution_count": 20,
   "id": "de0389be",
   "metadata": {},
   "outputs": [
    {
     "name": "stdout",
     "output_type": "stream",
     "text": [
      "SHIFT\n",
      "HIFTS\n",
      "IFTSH\n",
      "FTSHI\n",
      "TSHIF\n"
     ]
    }
   ],
   "source": [
    "s = \"SHIFT\"\n",
    "for i in range(len(s)):\n",
    "    print(s[i:] + s[:i])"
   ]
  }
 ],
 "metadata": {
  "kernelspec": {
   "display_name": "Python 3 (ipykernel)",
   "language": "python",
   "name": "python3"
  },
  "language_info": {
   "codemirror_mode": {
    "name": "ipython",
    "version": 3
   },
   "file_extension": ".py",
   "mimetype": "text/x-python",
   "name": "python",
   "nbconvert_exporter": "python",
   "pygments_lexer": "ipython3",
   "version": "3.12.7"
  }
 },
 "nbformat": 4,
 "nbformat_minor": 5
}
